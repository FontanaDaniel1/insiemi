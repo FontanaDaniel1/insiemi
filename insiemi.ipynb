{
  "nbformat": 4,
  "nbformat_minor": 0,
  "metadata": {
    "colab": {
      "provenance": [],
      "authorship_tag": "ABX9TyPhHWfCFulou1JOEP8VexUb",
      "include_colab_link": true
    },
    "kernelspec": {
      "name": "python3",
      "display_name": "Python 3"
    },
    "language_info": {
      "name": "python"
    }
  },
  "cells": [
    {
      "cell_type": "markdown",
      "metadata": {
        "id": "view-in-github",
        "colab_type": "text"
      },
      "source": [
        "<a href=\"https://colab.research.google.com/github/FontanaDaniel1/insiemi/blob/main/insiemi.ipynb\" target=\"_parent\"><img src=\"https://colab.research.google.com/assets/colab-badge.svg\" alt=\"Open In Colab\"/></a>"
      ]
    },
    {
      "cell_type": "markdown",
      "source": [
        "metodi per creare insiemi"
      ],
      "metadata": {
        "id": "oUX3imQbZAIU"
      }
    },
    {
      "cell_type": "code",
      "execution_count": null,
      "metadata": {
        "colab": {
          "base_uri": "https://localhost:8080/"
        },
        "id": "D-WxppJuYFgx",
        "outputId": "20fbf7d8-b752-472c-af49-c380ce296a34"
      },
      "outputs": [
        {
          "output_type": "stream",
          "name": "stdout",
          "text": [
            "{'juve', 'inter', 'milan'}\n"
          ]
        }
      ],
      "source": [
        "insieme = {\"inter\", \"milan\", \"juve\"}\n",
        "print(insieme)"
      ]
    },
    {
      "cell_type": "code",
      "source": [
        "insieme2 = set([\"luca\", \"riccardo\", \"anto\", \"luca\"]) #toglie doppi, printa senza ordine\n",
        "print(insieme2)"
      ],
      "metadata": {
        "colab": {
          "base_uri": "https://localhost:8080/"
        },
        "id": "0_Zcb1lQY0xT",
        "outputId": "a5575347-50e6-42ed-d734-aca8ec4e48f4"
      },
      "execution_count": null,
      "outputs": [
        {
          "output_type": "stream",
          "name": "stdout",
          "text": [
            "{'luca', 'anto', 'riccardo'}\n"
          ]
        }
      ]
    },
    {
      "cell_type": "code",
      "source": [
        "print(type(insieme))"
      ],
      "metadata": {
        "colab": {
          "base_uri": "https://localhost:8080/"
        },
        "id": "TEgSoapAZnP5",
        "outputId": "4b76745a-4665-4277-928f-2b9131d129ec"
      },
      "execution_count": null,
      "outputs": [
        {
          "output_type": "stream",
          "name": "stdout",
          "text": [
            "<class 'set'>\n"
          ]
        }
      ]
    },
    {
      "cell_type": "code",
      "source": [
        "insiememisto = {3, \"luca\", \"marco\", 45, True}\n",
        "print(insiememisto)"
      ],
      "metadata": {
        "id": "5Q05mLCubu65",
        "outputId": "d229d0a7-1cba-4cb4-8d9e-bc6f13270fbb",
        "colab": {
          "base_uri": "https://localhost:8080/"
        }
      },
      "execution_count": null,
      "outputs": [
        {
          "output_type": "stream",
          "name": "stdout",
          "text": [
            "{'luca', True, 3, 45, 'marco'}\n"
          ]
        }
      ]
    },
    {
      "cell_type": "code",
      "source": [
        "insiemenumerico = {1,2,3,4,5}\n",
        "prova = {i for i in range(10)}\n",
        "print(prova)\n",
        "print(insiemenumerico)"
      ],
      "metadata": {
        "colab": {
          "base_uri": "https://localhost:8080/"
        },
        "id": "8JUWZYCRaHw6",
        "outputId": "54840402-b434-4fb5-c0c8-e1776be832ac"
      },
      "execution_count": null,
      "outputs": [
        {
          "output_type": "stream",
          "name": "stdout",
          "text": [
            "{0, 1, 2, 3, 4, 5, 6, 7, 8, 9}\n",
            "{1, 2, 3, 4, 5}\n"
          ]
        }
      ]
    },
    {
      "cell_type": "code",
      "source": [
        "insieme5 = {\"ciao\", 56, True}\n",
        "insieme5.add(\"france\")\n",
        "print(insieme5)"
      ],
      "metadata": {
        "colab": {
          "base_uri": "https://localhost:8080/"
        },
        "id": "lObO-PHcaosa",
        "outputId": "7b369ba9-7237-4468-868b-9889aa219dba"
      },
      "execution_count": null,
      "outputs": [
        {
          "output_type": "stream",
          "name": "stdout",
          "text": [
            "{56, True, 'ciao', 'france'}\n"
          ]
        }
      ]
    },
    {
      "cell_type": "code",
      "source": [
        "ins6 = {\"gio\", 78, 7}\n",
        "ins7 = {\"loto\", \"poli\", \"simo\", 7}\n",
        "ins6.update(ins7)\n",
        "print(ins6)"
      ],
      "metadata": {
        "colab": {
          "base_uri": "https://localhost:8080/"
        },
        "id": "Nrg663neeQ4a",
        "outputId": "3502f806-144b-40e3-d7e4-617fd16a85c4"
      },
      "execution_count": null,
      "outputs": [
        {
          "output_type": "stream",
          "name": "stdout",
          "text": [
            "{'loto', 'gio', 7, 'poli', 78, 'simo'}\n"
          ]
        }
      ]
    },
    {
      "cell_type": "markdown",
      "source": [
        "metodi per rimuovere un elemento"
      ],
      "metadata": {
        "id": "GLdaSbl-fMAR"
      }
    },
    {
      "cell_type": "code",
      "source": [
        "ins8 = {\"pippo\", \"pluto\", \"paperino\", \"topolino\"}\n",
        "ins8.remove(\"pippo\")\n",
        "print(ins8)"
      ],
      "metadata": {
        "colab": {
          "base_uri": "https://localhost:8080/"
        },
        "id": "-59RW0QVew55",
        "outputId": "782570f9-a79c-450f-ee0a-f230a16dab9f"
      },
      "execution_count": null,
      "outputs": [
        {
          "output_type": "stream",
          "name": "stdout",
          "text": [
            "{'topolino', 'pluto', 'paperino'}\n"
          ]
        }
      ]
    },
    {
      "cell_type": "code",
      "source": [
        "ins8.discard(\"pippo\") #non da errore se l'elemento non è presente\n",
        "print(ins8)"
      ],
      "metadata": {
        "colab": {
          "base_uri": "https://localhost:8080/"
        },
        "id": "y2zKN9hbfB4S",
        "outputId": "fa49b284-3657-41bb-ad52-11090984893f"
      },
      "execution_count": null,
      "outputs": [
        {
          "output_type": "stream",
          "name": "stdout",
          "text": [
            "{'topolino', 'pluto', 'paperino'}\n"
          ]
        }
      ]
    },
    {
      "cell_type": "code",
      "source": [
        "x = ins8.pop() #toglie un elemento a caso\n",
        "print(x)\n",
        "print(ins8)"
      ],
      "metadata": {
        "colab": {
          "base_uri": "https://localhost:8080/"
        },
        "id": "t-bha40vfifR",
        "outputId": "472fbbbc-307f-4628-82c7-db8938ffbc67"
      },
      "execution_count": null,
      "outputs": [
        {
          "output_type": "stream",
          "name": "stdout",
          "text": [
            "topolino\n",
            "{'pluto', 'paperino'}\n"
          ]
        }
      ]
    },
    {
      "cell_type": "markdown",
      "source": [
        "metodi per svuotare gli insiemi"
      ],
      "metadata": {
        "id": "UjDJyfE2gaGK"
      }
    },
    {
      "cell_type": "code",
      "source": [
        "ins8.clear() #svuota la lista\n",
        "print(ins8)"
      ],
      "metadata": {
        "id": "GIhKbOmEgZOK"
      },
      "execution_count": null,
      "outputs": []
    },
    {
      "cell_type": "code",
      "source": [
        "del ins8 #elimina cpmpletamente l insieme\n",
        "print(ins8)"
      ],
      "metadata": {
        "id": "jclYjbxSggXy"
      },
      "execution_count": null,
      "outputs": []
    },
    {
      "cell_type": "markdown",
      "source": [
        "metodo union"
      ],
      "metadata": {
        "id": "NUXYMeOKhITd"
      }
    },
    {
      "cell_type": "code",
      "source": [
        "#creo un altro set\n",
        "set1 = {1,2,3,4,5,6}\n",
        "set2 = {10,20,30,40}\n",
        "set3 = set1.union(set2)\n",
        "print(set3)"
      ],
      "metadata": {
        "id": "06LW3YxFg0gq",
        "colab": {
          "base_uri": "https://localhost:8080/"
        },
        "outputId": "00824852-bd2c-4a7f-bdc9-e29a89698027"
      },
      "execution_count": null,
      "outputs": [
        {
          "output_type": "stream",
          "name": "stdout",
          "text": [
            "{1, 2, 3, 4, 5, 6, 40, 10, 20, 30}\n"
          ]
        }
      ]
    },
    {
      "cell_type": "markdown",
      "source": [
        "metodo update"
      ],
      "metadata": {
        "id": "B0Dek_PshKYy"
      }
    },
    {
      "cell_type": "code",
      "source": [
        "#in questo caso il set viene aggironato\n",
        "set4 = {\"vitto\",\"carlo\",\"ali\"}\n",
        "set5 = {100,200,300}\n",
        "set4.update(set5)\n",
        "print(set4)"
      ],
      "metadata": {
        "id": "9mH4DYQrhMSa"
      },
      "execution_count": null,
      "outputs": []
    },
    {
      "cell_type": "markdown",
      "source": [
        "metodo intersection_update"
      ],
      "metadata": {
        "id": "rmYjr49Mhm9y"
      }
    },
    {
      "cell_type": "code",
      "source": [
        "set6 = {\"ciao\", \"buong\", \"buonasera\"}\n",
        "set7 = {\"arrivaderci\", }\n",
        "set6.interesection_update(set7)"
      ],
      "metadata": {
        "id": "QENrayEJhmFx"
      },
      "execution_count": null,
      "outputs": []
    },
    {
      "cell_type": "markdown",
      "source": [
        "20 num casuali compresi tra 20 e 50 senza duplicati"
      ],
      "metadata": {
        "id": "7kUHPF4sjXOa"
      }
    },
    {
      "cell_type": "code",
      "source": [
        "import random\n",
        "insiemeCasuale = set()\n",
        "for i in  range(20):\n",
        "  insiemeCasuale.add(random.randint(20,50))\n",
        "\n",
        "print(insiemeCasuale)\n",
        "len(insiemeCasuale)"
      ],
      "metadata": {
        "colab": {
          "base_uri": "https://localhost:8080/"
        },
        "id": "EeFDc5CtjWmS",
        "outputId": "eb003f21-3c11-4b67-d02e-b7f50c8c5910"
      },
      "execution_count": null,
      "outputs": [
        {
          "output_type": "stream",
          "name": "stdout",
          "text": [
            "{32, 35, 36, 37, 40, 42, 43, 44, 47, 48, 20, 23, 26, 27, 28, 29, 31}\n"
          ]
        },
        {
          "output_type": "execute_result",
          "data": {
            "text/plain": [
              "17"
            ]
          },
          "metadata": {},
          "execution_count": 41
        }
      ]
    },
    {
      "cell_type": "markdown",
      "source": [
        "esercizi"
      ],
      "metadata": {
        "id": "bCnhCpmyiXKL"
      }
    },
    {
      "cell_type": "code",
      "source": [
        "ins9 = [1,4,5,6,7,10,1,4]\n",
        "print(ins9)"
      ],
      "metadata": {
        "id": "N43owycCiWji"
      },
      "execution_count": null,
      "outputs": []
    },
    {
      "cell_type": "code",
      "source": [
        "ins10 = {\"pizza\", \"pasta\", \"carne\"}"
      ],
      "metadata": {
        "id": "ADWuHWEsiuSa"
      },
      "execution_count": null,
      "outputs": []
    },
    {
      "cell_type": "code",
      "source": [
        "ins10.add(\"hamburger\")\n",
        "print(ins10)"
      ],
      "metadata": {
        "id": "Hqwf-ySVi7th"
      },
      "execution_count": null,
      "outputs": []
    },
    {
      "cell_type": "code",
      "source": [
        "ins10.clear()\n",
        "print(ins10)"
      ],
      "metadata": {
        "id": "52wywocni_tq"
      },
      "execution_count": null,
      "outputs": []
    },
    {
      "cell_type": "markdown",
      "source": [
        "caricare in una lista 20 num tra 1 e 100 rnd ed eliminare i duplicati"
      ],
      "metadata": {
        "id": "Zi5zeseskNJD"
      }
    },
    {
      "cell_type": "code",
      "source": [
        "import random\n",
        "lista = list(set([random.randint(1,100) for i in range(20)]))\n",
        "print(type(lista), lista)\n",
        "print(len(lista))"
      ],
      "metadata": {
        "colab": {
          "base_uri": "https://localhost:8080/"
        },
        "id": "ktKJbW3YkaDz",
        "outputId": "c9d414f1-b285-4235-8cdc-edea051ae091"
      },
      "execution_count": null,
      "outputs": [
        {
          "output_type": "stream",
          "name": "stdout",
          "text": [
            "<class 'list'> [64, 35, 68, 67, 99, 100, 73, 79, 47, 16, 87, 55, 86, 24, 58, 27, 93, 62]\n",
            "18\n"
          ]
        }
      ]
    },
    {
      "cell_type": "code",
      "source": [
        "import random\n",
        "for i in range(100):\n",
        "  x = random.randint(1,100)\n",
        "  y = lista.count(x)\n",
        "  if y != 0: \n",
        "     lista.append(x)\n",
        "  if len(lista) == 20:\n",
        "    exit\n",
        "print(lista)"
      ],
      "metadata": {
        "id": "ZMDNWzlpLDp4"
      },
      "execution_count": null,
      "outputs": []
    },
    {
      "cell_type": "code",
      "source": [
        "milella = {\"banana\", \"kiwi\", \"arancia\"}"
      ],
      "metadata": {
        "id": "6F8D80Bkz3Bg"
      },
      "execution_count": null,
      "outputs": []
    },
    {
      "cell_type": "code",
      "source": [
        "ava = {\"pere\", \"uva\", \"kiwi\"}\n",
        "#es like VERIFICA: quali sono i frutti che piacciono sia a mile che ad ava"
      ],
      "metadata": {
        "id": "n8FJO3T10D8n"
      },
      "execution_count": null,
      "outputs": []
    },
    {
      "cell_type": "code",
      "source": [
        "frutti_comuni = milella.intersection(ava) #controllo queli elementi sono in comune\n",
        "print(frutti_comuni)"
      ],
      "metadata": {
        "colab": {
          "base_uri": "https://localhost:8080/"
        },
        "id": "mE_JWLXc1Q5A",
        "outputId": "f34cd32b-a0dd-44ea-d307-e0df143ce9ad"
      },
      "execution_count": null,
      "outputs": [
        {
          "output_type": "stream",
          "name": "stdout",
          "text": [
            "{'kiwi'}\n"
          ]
        }
      ]
    },
    {
      "cell_type": "code",
      "source": [
        "tutti_i_frutti = milella.union(ava)\n",
        "print(tutti_i_frutti)"
      ],
      "metadata": {
        "colab": {
          "base_uri": "https://localhost:8080/"
        },
        "id": "bcItW2R716b_",
        "outputId": "398bd586-a1dc-4b6f-8db6-3fd99cd22fce"
      },
      "execution_count": null,
      "outputs": [
        {
          "output_type": "stream",
          "name": "stdout",
          "text": [
            "{'pere', 'kiwi', 'banana', 'arancia', 'uva'}\n"
          ]
        }
      ]
    },
    {
      "cell_type": "code",
      "source": [
        "#stampare solo i frutti che piacciono a milella(banana, arancia)\n",
        "frutti_mile = milella.difference(ava)\n",
        "print(frutti_mile)"
      ],
      "metadata": {
        "colab": {
          "base_uri": "https://localhost:8080/"
        },
        "id": "-JJ_PgTQ2dIX",
        "outputId": "876f25e7-9bdb-4912-d336-9fffc0afc01d"
      },
      "execution_count": null,
      "outputs": [
        {
          "output_type": "stream",
          "name": "stdout",
          "text": [
            "{'banana', 'arancia'}\n"
          ]
        }
      ]
    },
    {
      "cell_type": "code",
      "source": [
        "milella.add(\"fragole\")\n",
        "print(milella)"
      ],
      "metadata": {
        "colab": {
          "base_uri": "https://localhost:8080/"
        },
        "id": "90-o6KBT41B3",
        "outputId": "21872d9a-314b-4d58-fe5b-cead9d76147c"
      },
      "execution_count": null,
      "outputs": [
        {
          "output_type": "stream",
          "name": "stdout",
          "text": [
            "{'kiwi', 'banana', 'fragole', 'arancia'}\n"
          ]
        }
      ]
    },
    {
      "cell_type": "code",
      "source": [
        "milella.remove(\"kiwi\")\n",
        "print(milella)"
      ],
      "metadata": {
        "colab": {
          "base_uri": "https://localhost:8080/"
        },
        "id": "F1S-7vCB5GMg",
        "outputId": "1694ada1-bf6c-4518-8b53-326fc4575719"
      },
      "execution_count": null,
      "outputs": [
        {
          "output_type": "stream",
          "name": "stdout",
          "text": [
            "{'banana', 'fragole', 'arancia'}\n"
          ]
        }
      ]
    },
    {
      "cell_type": "code",
      "source": [
        "frutta = [\"uva\", \"mela\", \"uva\",\"uva\", \"mela\",\"kiwi\", \"kiwi\", \"mela\"]\n",
        "fruttaINS = set(frutta) #x toglire i doppioni\n",
        "fruttalista = set(fruttaINS) #x trasformarlo in insieme\n",
        "print(fruttalista)"
      ],
      "metadata": {
        "colab": {
          "base_uri": "https://localhost:8080/"
        },
        "id": "P-jIKOhj5ZfP",
        "outputId": "9227af21-e491-452e-8a34-a40741143870"
      },
      "execution_count": null,
      "outputs": [
        {
          "output_type": "stream",
          "name": "stdout",
          "text": [
            "{'mela', 'uva', 'kiwi'}\n"
          ]
        }
      ]
    },
    {
      "cell_type": "code",
      "source": [
        "fruttaList = list(set(frutta))\n",
        "fruttaTupla = tuple(set(frutta))\n",
        "print(fruttaTupla)"
      ],
      "metadata": {
        "colab": {
          "base_uri": "https://localhost:8080/"
        },
        "id": "ocfBFX1k6iYR",
        "outputId": "4070a94c-5b0d-431f-85c1-0a3359a5a7a3"
      },
      "execution_count": null,
      "outputs": [
        {
          "output_type": "stream",
          "name": "stdout",
          "text": [
            "['mela', 'uva', 'kiwi']\n"
          ]
        }
      ]
    },
    {
      "cell_type": "markdown",
      "source": [
        "ese. Verifica:"
      ],
      "metadata": {
        "id": "sIH6aVfS6-cz"
      }
    },
    {
      "cell_type": "code",
      "source": [
        "squadre = [\"milan\", \"inter\", \"juve\", \"milan\", \"napoli\", \"napoli\"]\n",
        "\n",
        "lista_senzaDoppie= list(set(squadre))\n",
        "print(lista_senzaDoppie)"
      ],
      "metadata": {
        "colab": {
          "base_uri": "https://localhost:8080/"
        },
        "id": "Nhz_zvJh7Lf4",
        "outputId": "bd323a61-7cd6-4ac3-e9ee-255762898342"
      },
      "execution_count": null,
      "outputs": [
        {
          "output_type": "stream",
          "name": "stdout",
          "text": [
            "['inter', 'juve', 'napoli', 'milan']\n"
          ]
        }
      ]
    },
    {
      "cell_type": "code",
      "source": [
        "stud_milan = {\"dari\", \"gere\", \"berna\" }\n",
        "stud_inter = {\"berna\", \"loto\", \"mile\"}\n",
        "\n",
        "stud = stud_milan.union(stud_inter)\n",
        "print(stud)\n",
        "\n",
        "stud_comune = stud_milan.intersection(stud_inter) #stampo il doppio\n",
        "print(stud_comune)"
      ],
      "metadata": {
        "colab": {
          "base_uri": "https://localhost:8080/"
        },
        "id": "gPCgH7A28Ehh",
        "outputId": "2bcadfc3-f4ab-4486-fab3-c09ff2ee1881"
      },
      "execution_count": null,
      "outputs": [
        {
          "output_type": "stream",
          "name": "stdout",
          "text": [
            "{'berna', 'loto', 'gere', 'dari', 'mile'}\n",
            "{'berna'}\n"
          ]
        }
      ]
    },
    {
      "cell_type": "code",
      "source": [
        "stud_noMilan = stud.difference(stud_milan) #stampo SOLO inter (Berna no -> Milan)\n",
        "print(stud_noMilan)"
      ],
      "metadata": {
        "colab": {
          "base_uri": "https://localhost:8080/"
        },
        "id": "pkLr0zTx9lJf",
        "outputId": "29e66a12-9a1c-4c57-feae-05fcd710a9bf"
      },
      "execution_count": null,
      "outputs": [
        {
          "output_type": "stream",
          "name": "stdout",
          "text": [
            "{'loto', 'mile'}\n"
          ]
        }
      ]
    }
  ]
}